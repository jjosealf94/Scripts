{
 "cells": [
  {
   "cell_type": "markdown",
   "metadata": {},
   "source": [
    "https://en.wikipedia.org/wiki/The_Three-Body_Problem"
   ]
  },
  {
   "cell_type": "code",
   "execution_count": 2,
   "metadata": {
    "collapsed": false
   },
   "outputs": [
    {
     "name": "stdout",
     "output_type": "stream",
     "text": [
      "Populating the interactive namespace from numpy and matplotlib\n"
     ]
    }
   ],
   "source": [
    "%pylab inline\n",
    "from scipy.integrate import quad"
   ]
  },
  {
   "cell_type": "code",
   "execution_count": 3,
   "metadata": {
    "collapsed": false
   },
   "outputs": [
    {
     "name": "stdout",
     "output_type": "stream",
     "text": [
      "8.63301893536e-06\n"
     ]
    }
   ],
   "source": [
    "def simpson38(fun,mini,maxi,m):\n",
    "    h=(maxi-mini)/(3.*m)\n",
    "    x=linspace(mini,maxi,3*m+1)\n",
    "    simp = 3.*h/8.*(sum(integrand(x[0:-3:3]))+3*sum(integrand(x[1:-2:3]))+3*sum(integrand(x[2:-1:3]))+sum(integrand(x[3::3])))\n",
    "    return simp\n",
    "\n",
    "def integrand(x):\n",
    "    return x**2 * np.exp(-x)\n",
    "\n",
    "exp= simpson38(integrand,0,1,5)\n",
    "teo= quad(integrand,0,1)[0]\n",
    "error=abs(exp-teo)/teo\n",
    "print (error)\n",
    "    "
   ]
  },
  {
   "cell_type": "code",
   "execution_count": 12,
   "metadata": {
    "collapsed": false
   },
   "outputs": [
    {
     "data": {
      "image/png": "[encoded data removed]",
      "text/plain": [
       "<matplotlib.figure.Figure at 0x7f4ee8074d68>"
      ]
     },
     "metadata": {},
     "output_type": "display_data"
    },
    {
     "name": "stdout",
     "output_type": "stream",
     "text": [
      "4.07104163725e-05\n"
     ]
    }
   ],
   "source": [
    "inttries=[]\n",
    "for i in range(2,12,2):\n",
    "    N = 2.**i\n",
    "    h=(1)/(3.*N)\n",
    "    x=linspace(0,1,3*N+1)\n",
    "    simp = 3.*h/8.*(sum(integrand(x[0:-3:3]))+3*sum(integrand(x[1:-2:3]))+3*sum(integrand(x[2:-1:3]))+sum(integrand(x[3::3])))\n",
    "    inttries.append([h,abs(teo-simp)])\n",
    "ainttries=np.array(inttries)\n",
    "\n",
    "plt.figure(figsize=(9,3))\n",
    "plt.plot(ainttries[:,0],ainttries[:,1],\"o--\")\n",
    "plt.yscale('log')\n",
    "plt.xscale('log')\n",
    "plt.xlabel('$h$')\n",
    "plt.ylabel('err')\n",
    "plt.show()\n",
    "\n",
    "x=ainttries[:,0]\n",
    "y=ainttries[:,1]\n",
    "m=(y[-1]-y[0])/(x[-1]-x[0])\n",
    "print (m)"
   ]
  },
  {
   "cell_type": "markdown",
   "metadata": {},
   "source": []
  }
 ],
 "metadata": {
  "kernelspec": {
   "display_name": "Python 3",
   "language": "python",
   "name": "python3"
  },
  "language_info": {
   "codemirror_mode": {
    "name": "ipython",
    "version": 3
   },
   "file_extension": ".py",
   "mimetype": "text/x-python",
   "name": "python",
   "nbconvert_exporter": "python",
   "pygments_lexer": "ipython3",
   "version": "3.4.3"
  }
 },
 "nbformat": 4,
 "nbformat_minor": 0
}
