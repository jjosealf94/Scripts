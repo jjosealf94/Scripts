{
 "cells": [
  {
   "cell_type": "code",
   "execution_count": 16,
   "metadata": {
    "collapsed": false
   },
   "outputs": [
    {
     "name": "stdout",
     "output_type": "stream",
     "text": [
      "Populating the interactive namespace from numpy and matplotlib\n",
      "¡El primer punto de lagrange entre Jupiter e Io!\n",
      "El primer punto de lagrange usado root [ 10467.57762078]\n",
      "El primer punt  de lagrange usando la aproximación 15224.964524061344\n",
      "La diferencia porcentual es: [ 45.44878553]\n"
     ]
    }
   ],
   "source": [
    "% pylab inline\n",
    "from scipy.optimize import root\n",
    "\n",
    "print (\"¡El primer punto de lagrange entre Jupiter e Io!\")\n",
    "MJupiter=1.899*(10**27)\n",
    "MIo=8.94*(10**22)\n",
    "R=421650\n",
    "def L1equation(r):\n",
    "    return (MJupiter/(R-r)**2)-(MIo/r**2)-((MJupiter/(MIo+MJupiter))*(R-r))*((MJupiter+MIo)/R**3)\n",
    "\n",
    "L1=root(L1equation,0.3)\n",
    "\n",
    "L1apro=R*(MIo**(1.0/3))/(MJupiter**(1./3.))\n",
    "\n",
    "print (\"El primer punto de lagrange usado root\",L1.x)\n",
    "print (\"El primer punt  de lagrange usando la aproximación\",L1apro)\n",
    "\n",
    "dif=(abs(L1.x-L1apro)/L1.x)*100\n",
    "print (\"La diferencia porcentual es:\",dif)"
   ]
  },
  {
   "cell_type": "code",
   "execution_count": 11,
   "metadata": {
    "collapsed": false
   },
   "outputs": [],
   "source": [
    "\n",
    "\n"
   ]
  },
  {
   "cell_type": "code",
   "execution_count": null,
   "metadata": {
    "collapsed": false
   },
   "outputs": [],
   "source": []
  }
 ],
 "metadata": {
  "kernelspec": {
   "display_name": "Python 3",
   "language": "python",
   "name": "python3"
  },
  "language_info": {
   "codemirror_mode": {
    "name": "ipython",
    "version": 3
   },
   "file_extension": ".py",
   "mimetype": "text/x-python",
   "name": "python",
   "nbconvert_exporter": "python",
   "pygments_lexer": "ipython3",
   "version": "3.4.3"
  }
 },
 "nbformat": 4,
 "nbformat_minor": 0
}
