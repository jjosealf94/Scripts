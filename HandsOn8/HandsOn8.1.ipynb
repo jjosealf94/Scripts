{
 "metadata": {
  "name": "",
  "signature": "sha256:37c6b14e9803b7a5019efbc290024a1399d8662a13751e051696206a1976688b"
 },
 "nbformat": 3,
 "nbformat_minor": 0,
 "worksheets": [
  {
   "cells": [
    {
     "cell_type": "code",
     "collapsed": false,
     "input": [
      "% pylab inline\n",
      "from scipy.optimize import root\n",
      "\n",
      "print (\"\u00a1El primer punto de lagrange entre Jupiter e Io!\")\n",
      "\n",
      "def L1equation(r):\n",
      "    MJupiter=1.899*(10**27)\n",
      "    MIo=8.94*(10**22)\n",
      "    R=421650\n",
      "    return (MJupiter/(R-r)**2)-(MIo/r**2)-((MJupiter/(MIo+MJupiter))*(R-r))*((MJupiter+MIo)/R**3)\n",
      "\n",
      "L1=root(L1equation,0.3)\n",
      "print \"El primer punto de lagrange\",L1.x\n"
     ],
     "language": "python",
     "metadata": {},
     "outputs": [
      {
       "output_type": "stream",
       "stream": "stdout",
       "text": [
        "Populating the interactive namespace from numpy and matplotlib\n",
        "\u00a1El primer punto de lagrange entre Jupiter e Io!\n",
        "El primer punto de lagrange [ 10467.57762078]\n"
       ]
      }
     ],
     "prompt_number": 21
    },
    {
     "cell_type": "code",
     "collapsed": false,
     "input": [],
     "language": "python",
     "metadata": {},
     "outputs": [],
     "prompt_number": 12
    },
    {
     "cell_type": "code",
     "collapsed": false,
     "input": [],
     "language": "python",
     "metadata": {},
     "outputs": []
    }
   ],
   "metadata": {}
  }
 ]
}