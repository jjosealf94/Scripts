{
 "cells": [
  {
   "cell_type": "code",
   "execution_count": 3,
   "metadata": {
    "collapsed": false
   },
   "outputs": [
    {
     "name": "stdout",
     "output_type": "stream",
     "text": [
      "Using matplotlib backend: Qt4Agg\n",
      "Populating the interactive namespace from numpy and matplotlib\n"
     ]
    }
   ],
   "source": [
    "%pylab \n",
    "from matplotlib import animation\n",
    "\n",
    "#Importa los datos de los planetas\n",
    "choreography=genfromtxt(\"./coreo.csv\",delimiter=\",\")\n",
    "x1=choreography[:,1]\n",
    "x2=choreography[:,3]\n",
    "x3=choreography[:,5]\n",
    "y1=choreography[:,2]\n",
    "y2=choreography[:,4]\n",
    "y3=choreography[:,6]\n",
    "t=choreography[:,0]\n",
    "\n",
    "#Crea la figura con un eje, una grilla e igual proporción\n",
    "fig=figure()\n",
    "ax = fig.add_subplot(111, autoscale_on=False, xlim=(-1.5, 1.5), ylim=(-1.0, 1.0))\n",
    "ax.grid(True) \n",
    "ax.set_aspect('equal')\n",
    "\n",
    "#Grafica la trayectoria completa\n",
    "completetrayectory = ax.plot(x1,y1,\"--k\",alpha=0.4)\n",
    "title(\"Gravitational Choreography\\n\")\n",
    "\n",
    "#Crea las trayectorias de los tres planetas\n",
    "trayectory1, = ax.plot([], [], '-', lw=2,label=\"planeta 1\")\n",
    "trayectory2, = ax.plot([], [], '-', lw=2,label=\"planeta 2\")\n",
    "trayectory3, = ax.plot([], [], '-', lw=2,label=\"planeta 3\")\n",
    "#Crea los tres planetas\n",
    "planet1, = ax.plot([], [], 'ok', lw=2)\n",
    "planet2, = ax.plot([], [], 'ok', lw=2)\n",
    "planet3, = ax.plot([], [], 'ok', lw=2)\n",
    "\n",
    "legend()\n",
    "time_template = 'time = %.2f'\n",
    "time_text = ax.text(0.05, 0.9, '', transform=ax.transAxes)\n",
    "dt = 0.05\n",
    "\n",
    "#Crea la función que anima que establece los datos para las trayectorias y planetas\n",
    "def animate(i):\n",
    "    if( i<10 ):\n",
    "        mini=0\n",
    "    else:\n",
    "        mini=i-10\n",
    "    thisx1 = x1[mini:i]\n",
    "    thisy1 = y1[mini:i]\n",
    "    thisx2 = x2[mini:i]\n",
    "    thisy2 = y2[mini:i]\n",
    "    thisx3 = x3[mini:i]\n",
    "    thisy3 = y3[mini:i]\n",
    "\n",
    "    trayectory1.set_data(thisx1, thisy1)\n",
    "    trayectory2.set_data(thisx2, thisy2)\n",
    "    trayectory3.set_data(thisx3, thisy3)\n",
    "    \n",
    "    planet1.set_data([x1[i]],[y1[i]])\n",
    "    planet2.set_data([x2[i]],[y2[i]])\n",
    "    planet3.set_data([x3[i]],[y3[i]])\n",
    "    time_text.set_text(time_template%(i*dt))\n",
    "    return trayectory1, trayectory2, trayectory3, planet1, planet2, planet3, time_text\n",
    "\n",
    "\n",
    "\n",
    "animacion = animation.FuncAnimation(fig,animate,np.arange(1,len(t)),interval=10, blit=False)\n",
    "\n",
    "#animacion.save('./grav_choreography.mp4', fps=15)\n",
    "show()"
   ]
  },
  {
   "cell_type": "code",
   "execution_count": null,
   "metadata": {
    "collapsed": true
   },
   "outputs": [],
   "source": []
  }
 ],
 "metadata": {
  "kernelspec": {
   "display_name": "Python 3",
   "language": "python",
   "name": "python3"
  },
  "language_info": {
   "codemirror_mode": {
    "name": "ipython",
    "version": 3
   },
   "file_extension": ".py",
   "mimetype": "text/x-python",
   "name": "python",
   "nbconvert_exporter": "python",
   "pygments_lexer": "ipython3",
   "version": "3.4.3"
  }
 },
 "nbformat": 4,
 "nbformat_minor": 0
}
