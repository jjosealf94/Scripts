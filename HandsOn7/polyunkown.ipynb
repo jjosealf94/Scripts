{
 "metadata": {
  "name": "",
  "signature": "sha256:f3282794f9141b035a1ff60e2e2d97a13bd01d7051822cd28904437f8e4753d7"
 },
 "nbformat": 3,
 "nbformat_minor": 0,
 "worksheets": [
  {
   "cells": [
    {
     "cell_type": "code",
     "collapsed": false,
     "input": [
      "%pylab inline "
     ],
     "language": "python",
     "metadata": {},
     "outputs": [
      {
       "output_type": "stream",
       "stream": "stdout",
       "text": [
        "Populating the interactive namespace from numpy and matplotlib\n"
       ]
      }
     ],
     "prompt_number": 1
    },
    {
     "cell_type": "code",
     "collapsed": false,
     "input": [
      "file=genfromtxt(\"./polyunkown.csv\",delimiter=\",\")\n"
     ],
     "language": "python",
     "metadata": {},
     "outputs": [
      {
       "output_type": "stream",
       "stream": "stdout",
       "text": [
        "[[ -5.00000000e+00  -1.26706914e+09]\n",
        " [ -4.74358974e+00  -6.47700894e+08]\n",
        " [ -4.48717949e+00  -3.19754304e+08]\n",
        " [ -4.23076923e+00  -1.51906610e+08]\n",
        " [ -3.97435897e+00  -6.91630276e+07]\n",
        " [ -3.71794872e+00  -3.00364035e+07]\n",
        " [ -3.46153846e+00  -1.23736168e+07]\n",
        " [ -3.20512821e+00  -4.80386176e+06]\n",
        " [ -2.94871795e+00  -1.74398755e+06]\n",
        " [ -2.69230769e+00  -5.86418705e+05]\n",
        " [ -2.43589744e+00  -1.80437261e+05]\n",
        " [ -2.17948718e+00  -4.99933117e+04]\n",
        " [ -1.92307692e+00  -1.21936564e+04]\n",
        " [ -1.66666667e+00  -2.53141232e+03]\n",
        " [ -1.41025641e+00  -4.24966093e+02]\n",
        " [ -1.15384615e+00  -5.43423102e+01]\n",
        " [ -8.97435897e-01  -6.62231212e+00]\n",
        " [ -6.41025641e-01  -2.88680634e+00]\n",
        " [ -3.84615385e-01  -2.44055823e+00]\n",
        " [ -1.28205128e-01  -1.59215469e+00]\n",
        " [  1.28205128e-01  -3.05478837e-01]\n",
        " [  3.84615385e-01   1.61063060e+00]\n",
        " [  6.41025641e-01   5.19642192e+00]\n",
        " [  8.97435897e-01   1.30874525e+01]\n",
        " [  1.15384615e+00   4.04918428e+01]\n",
        " [  1.41025641e+00   2.09708164e+02]\n",
        " [  1.66666667e+00   1.31467348e+03]\n",
        " [  1.92307692e+00   7.38003804e+03]\n",
        " [  2.17948718e+00   3.49994566e+04]\n",
        " [  2.43589744e+00   1.42110795e+05]\n",
        " [  2.69230769e+00   5.05635321e+05]\n",
        " [  2.94871795e+00   1.60987872e+06]\n",
        " [  3.20512821e+00   4.66594813e+06]\n",
        " [  3.46153846e+00   1.24812309e+07]\n",
        " [  3.71794872e+00   3.11572382e+07]\n",
        " [  3.97435897e+00   7.32405973e+07]\n",
        " [  4.23076923e+00   1.63320531e+08]\n",
        " [  4.48717949e+00   3.47601256e+08]\n",
        " [  4.74358974e+00   7.09735046e+08]\n",
        " [  5.00000000e+00   1.39624991e+09]]\n"
       ]
      }
     ],
     "prompt_number": 9
    },
    {
     "cell_type": "code",
     "collapsed": false,
     "input": [
      "def lagrangep(absc,j):\n",
      "    pol=np.poly1d([0,1])\n",
      "    k=len(absc)\n",
      "    for m in range(k):\n",
      "        if m!=j:\n",
      "            pol*=1./(absc[j]-absc[m])*np.poly1d([1.,-absc[m]])\n",
      "    return pol \n",
      "\n",
      "def interlagr(absc,orde):\n",
      "    poly=np.poly1d([0])\n",
      "    for i in range(len(absc)):\n",
      "        poly+=orde[i]*lagrangep(absc,i)\n",
      "    return poly\n",
      "\n",
      "po=interlagr(file[:,0],file[:,1])\n",
      "print po"
     ],
     "language": "python",
     "metadata": {},
     "outputs": [
      {
       "output_type": "stream",
       "stream": "stdout",
       "text": [
        "            39             38             37            36\n",
        "-3.693e-21 x  - 2.432e-21 x  + 6.157e-19 x  + 3.52e-19 x \n",
        "              35             34             33             32\n",
        " - 4.566e-17 x  - 2.765e-17 x  + 1.959e-15 x  + 3.057e-15 x \n",
        "             31             30             29             28\n",
        " - 7.95e-14 x  + 8.041e-14 x  + 8.226e-13 x  + 1.005e-12 x \n",
        "              27             26             25             24\n",
        " - 6.333e-12 x  - 1.324e-10 x  + 8.595e-10 x  - 2.274e-09 x \n",
        "              23             22             21             20\n",
        " + 5.127e-09 x  - 1.697e-08 x  + 3.758e-08 x  - 1.425e-08 x \n",
        "              19             18             17             16\n",
        " - 7.943e-08 x  + 1.041e-07 x  - 1.494e-07 x  + 7.043e-07 x \n",
        "              15             14     13       12     11     10     9\n",
        " - 1.163e-06 x  + 2.183e-07 x  + 1 x  + 0.5 x  + 2 x  - 6 x  + 7 x\n",
        "      8     7     6     5     4     3     2\n",
        " + 3 x - 5 x - 4 x + 6 x + 7 x + 1 x + 3 x + 5 x - 1\n"
       ]
      }
     ],
     "prompt_number": 16
    },
    {
     "cell_type": "code",
     "collapsed": false,
     "input": [
      "figure()\n",
      "x=linspace(-5,5,1000)\n",
      "plot(x,po(x))\n",
      "show()"
     ],
     "language": "python",
     "metadata": {},
     "outputs": [
      {
       "metadata": {},
       "output_type": "display_data",
       "png": "[encoded data removed]",
       "text": [
        "<matplotlib.figure.Figure at 0x379cc10>"
       ]
      }
     ],
     "prompt_number": 15
    },
    {
     "cell_type": "code",
     "collapsed": false,
     "input": [],
     "language": "python",
     "metadata": {},
     "outputs": []
    }
   ],
   "metadata": {}
  }
 ]
}