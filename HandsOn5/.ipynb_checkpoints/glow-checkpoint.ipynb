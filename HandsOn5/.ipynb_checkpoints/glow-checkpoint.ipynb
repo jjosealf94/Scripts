{
 "cells": [
  {
   "cell_type": "code",
   "execution_count": 20,
   "metadata": {
    "collapsed": false
   },
   "outputs": [
    {
     "name": "stdout",
     "output_type": "stream",
     "text": [
      "Using matplotlib backend: Qt4Agg\n",
      "Populating the interactive namespace from numpy and matplotlib\n",
      "Enter the velocity=0.01\n"
     ]
    }
   ],
   "source": [
    "%pylab\n",
    "import matplotlib.pyplot \n",
    "import matplotlib.animation \n",
    "\n",
    "omega=float(input(\"Enter the velocity=\"))\n",
    "\n",
    "\n",
    "fig = plt.figure()\n",
    "ax = plt.axes(xlim=(-1, 1), ylim=(-1, 1))\n",
    "ax.set_aspect('equal')\n",
    "line, = ax.plot([], [],lw=1)\n",
    "\n",
    "def init():\n",
    "    line.set_data([], [])\n",
    "    return line,\n",
    "\n",
    "def circle(r):\n",
    "    tlin = np.linspace(0,2*np.pi,100)\n",
    "    x = r*np.cos(tlin)\n",
    "    y = r*np.sin(tlin)\n",
    "    line.set_data(x,y)\n",
    "    return line,\n",
    "\n",
    "\n",
    "def animate(t):  \n",
    "    r=np.cos(omega*t)**2\n",
    "    return circle(r)\n",
    "\n",
    "\n",
    "anim = animation.FuncAnimation(fig, animate, init_func=init)\n",
    "#anim.save('circle.mp4', fps=30)\n",
    "plt.show()\n",
    "\n"
   ]
  },
  {
   "cell_type": "code",
   "execution_count": null,
   "metadata": {
    "collapsed": true
   },
   "outputs": [],
   "source": []
  }
 ],
 "metadata": {
  "kernelspec": {
   "display_name": "Python 3",
   "language": "python",
   "name": "python3"
  },
  "language_info": {
   "codemirror_mode": {
    "name": "ipython",
    "version": 3
   },
   "file_extension": ".py",
   "mimetype": "text/x-python",
   "name": "python",
   "nbconvert_exporter": "python",
   "pygments_lexer": "ipython3",
   "version": "3.4.3"
  }
 },
 "nbformat": 4,
 "nbformat_minor": 0
}
