{
 "metadata": {
  "name": "",
  "signature": "sha256:9a9b40c3b66bd2b1ebf51a8ad0f0a5ef8c0da4d360eb97e78e328b1b31ed18f0"
 },
 "nbformat": 3,
 "nbformat_minor": 0,
 "worksheets": []
}