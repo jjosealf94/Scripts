{
 "cells": [
  {
   "cell_type": "code",
   "execution_count": 1,
   "metadata": {
    "collapsed": false
   },
   "outputs": [
    {
     "name": "stdout",
     "output_type": "stream",
     "text": [
      "Populating the interactive namespace from numpy and matplotlib\n"
     ]
    }
   ],
   "source": [
    "%pylab inline"
   ]
  },
  {
   "cell_type": "code",
   "execution_count": 4,
   "metadata": {
    "collapsed": false
   },
   "outputs": [
    {
     "name": "stdout",
     "output_type": "stream",
     "text": [
      "[[0 1]\n",
      " [1 0]]\n"
     ]
    }
   ],
   "source": [
    "#Constantes\n",
    "w0=1.\n",
    "w1=2.*w0\n",
    "wr=3.*w0\n",
    "\n",
    "#Matrices de pauli\n",
    "sx=array([[0,1],[1,0]])\n",
    "sy=array([[0,-1.j],[1.j,0]])\n",
    "sz=array([[1,0],[0,-1]])\n",
    "\n",
    "#Ecuación diferencial\n",
    "def f(w0,w1,wr,sx,sy,sz,Y):\n",
    "    return ()\n",
    "\n",
    "def one_Kutta4_step():\n",
    "    global t\n",
    "    global Deltat\n",
    "    global Y\n",
    "    K1 = f(Y)\n",
    "    K2 = f(Y + Deltat*(1./2.*K1))\n",
    "    K3 = f(Y + Deltat*(1./2.*K2))\n",
    "    K4 = f(Y + Deltat*K3)\n",
    "    Y+= Deltat * (1/6.*K1 + 1/3. * K2 + 1/3.*K3 + 1/6.*K4)\n",
    "    t+= Deltat"
   ]
  },
  {
   "cell_type": "code",
   "execution_count": null,
   "metadata": {
    "collapsed": true
   },
   "outputs": [],
   "source": []
  }
 ],
 "metadata": {
  "kernelspec": {
   "display_name": "Python 3",
   "language": "python",
   "name": "python3"
  },
  "language_info": {
   "codemirror_mode": {
    "name": "ipython",
    "version": 3
   },
   "file_extension": ".py",
   "mimetype": "text/x-python",
   "name": "python",
   "nbconvert_exporter": "python",
   "pygments_lexer": "ipython3",
   "version": "3.4.3"
  }
 },
 "nbformat": 4,
 "nbformat_minor": 0
}
